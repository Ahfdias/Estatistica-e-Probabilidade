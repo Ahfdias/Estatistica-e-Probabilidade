{
 "cells": [
  {
   "cell_type": "markdown",
   "metadata": {
    "ExecuteTime": {
     "end_time": "2021-02-04T15:24:15.220226Z",
     "start_time": "2021-02-04T15:24:15.162789Z"
    }
   },
   "source": [
    "# Estatística e Probabilidade\n",
    "**Material Produzido por:** \n",
    "- Alessandro Firmiano: http://lattes.cnpq.br/0355957149114778\n",
    "- Carlos Eduardo Cardoso: https://github.com/carlos-cardoso84\n",
    "- João Paulo: http://lattes.cnpq.br/8043024792815551\n",
    "- Mauricio Eloy: https://github.com/MauricioEloy"
   ]
  },
  {
   "cell_type": "markdown",
   "metadata": {},
   "source": [
    " **Organização**\n",
    "\n",
    "* Organização dos dados tem objetivo:\n",
    "\n",
    "  * Facilitar a leitura dos dados;\n",
    "  * Compreensão dos dados;\n",
    "  * Obter informação sobre a população;\n",
    "  * Fazer comparações.\n",
    "\n",
    "* Gráficos\n",
    "  \n",
    "  * Ilustrar de forma visual as informações;\n",
    "  * Importante parte da Estatística Descritiva."
   ]
  },
  {
   "cell_type": "markdown",
   "metadata": {},
   "source": [
    "#  Dados Brutos\n",
    "\n",
    "## Exemplo: \n",
    "Dados Brutos (Notas de 70 alunos $[0,100]$)\n",
    "```{r, echo=TRUE}\n",
    "#summary(cars)\n",
    "set.seed(100000)\n",
    "options(digits=4)\n",
    "x=100*runif(70)\n",
    "x\n",
    "```\n",
    "\n",
    "* Dados fornecem todas as informações individuais, mas não há uma ideia sobre a variação dos valores; difícil identificar valores mínimo e máximo; \n",
    "\n",
    "* Imagine um conjuntos de dados com 10 características e 100 elementos!"
   ]
  },
  {
   "cell_type": "markdown",
   "metadata": {},
   "source": [
    "# Características importantes dos dados\n",
    "\n",
    "* Medida central: Indica onde se localiza o meio dos\n",
    "dados.\n",
    "    * média, moda, mediana\n",
    "* Variação: Indica quanto os valores dos dados variam\n",
    "entre si.\n",
    "  * coeficiente de variação, erro médio, variância, desvio-padrão\n",
    "* Distribuição: Como os dados se distribuem de forma simétrica, assimétrica, na forma de sino uniforme.\n",
    "    * assimétrica (direita, esquerda) ou simétrica; achatamento (achatada, alongada ou normal)\n",
    "* Valores discrepantes (ou outliers)\n",
    "  * um termo que requer cautela\n",
    "* Tempo: Como os dados mudam com o tempo (tendência, ciclos, sazonalidade)"
   ]
  },
  {
   "cell_type": "markdown",
   "metadata": {},
   "source": [
    "# Ferramentas utilizadas\n",
    "\n",
    "* Ordenação de dados\n",
    "* Representação na forma de Tabelas\n",
    "* Representação na forma de gráficos\n",
    "* Fórmulas matemáticas para calcular grandezas\n",
    "    * média, moda, mediana, medidas quantílicas, variânca, coeficiente de variação, coeficiente de assimetria, coeficiente de curtose, etc. \n",
    "* Tecnologia ou cálculo manual?\n",
    "  * Cálculo manual para entender os processos e realizar as provas.\n",
    "  * Cálculo com auxílio de software para problemas maiores-provavelmente exercícios.\n",
    "* Fazer cálculos manuais com alguns exemplos pode ajudar a compreensão dos resultados obtidos pela tecnologia. Além disso evita erros grosseiros por falta de conhecimento técnico. "
   ]
  },
  {
   "cell_type": "markdown",
   "metadata": {},
   "source": [
    "# Ordenação de dados ou Rol\n",
    "\n",
    "* Representação dos dados ordenados ou Rol: $x_1 , x_2, . . . ,x_n$\n",
    "\n",
    "As notas dos 50 alunos ordenadas:\n",
    "$3.67, 9.58, 11.49, 14.77, ... 92.37, 94.38, 98.75$\n",
    "\n",
    "O Mínimo e o Máximo: $x_1= 3.67$ e $x_{50}= 98.7$\n",
    "\n",
    "Amplitude do Rol: $A = x_{50} − x_1= 95.1$\n",
    "\n",
    "*** \n",
    "\n",
    "O Rol é importante para identificar dados discrepantes ou Outlier. No entanto, um método gráfico pode ter mais apelo visual.\n",
    "\n",
    "Quais outras informações podem ser obtidas pela análise do Rol?\n",
    "\n",
    "Uma visualização melhor dos dados pode ser obtida por meio da tabela de Frequências."
   ]
  },
  {
   "cell_type": "markdown",
   "metadata": {},
   "source": [
    "# Atividade\n",
    "\n",
    "## Exercício: \n",
    "Gerar 20 amostras com 100 valores de notas. Ordenar os dados e calcular a amplitude total com base na ordenação. Montar uma tabela com os valores mínimos e máximos.\n",
    "* Verificar que as amostras geradas são diferentes (em geral).\n",
    "* Observar as oscilações dos valores mínimo e máximo.\n",
    "\n",
    "O código abaixo e os códigos anteriores podem ser utilizados  para \n",
    "\n",
    "```{r, echo=TRUE, results=\"hide\"}\n",
    "#summary(cars)\n",
    "set.seed(100000)#O que isso faz?\n",
    "options(digits=4)#O que isso faz?\n",
    "x=100*runif(70)#O que isso faz?\n",
    "```"
   ]
  },
  {
   "cell_type": "markdown",
   "metadata": {},
   "source": [
    "## Exercício: \n",
    "Idem exercício anterior, mas gerar 10 amostras com 100 valores de uma distribuição normal com média $\\mu=170$ e $\\sigma^2=15$. \n",
    "\n",
    "* Observações:\n",
    "  * Note que você está amostrando de uma população uniforme no primeiro caso e uma população normal no segundo caso.\n",
    "  * Ambos os casos produzem amostras diferentes a cada rodada. Logo, todas as medidas resumo (mínimo, máximo) serão distintas. \n",
    "  * Importante observar que, em geral, a média das médias oscila em torno do parâmetro populacional. "
   ]
  },
  {
   "cell_type": "code",
   "execution_count": null,
   "metadata": {},
   "outputs": [],
   "source": []
  },
  {
   "cell_type": "code",
   "execution_count": null,
   "metadata": {},
   "outputs": [],
   "source": []
  },
  {
   "cell_type": "code",
   "execution_count": null,
   "metadata": {},
   "outputs": [],
   "source": []
  },
  {
   "cell_type": "code",
   "execution_count": null,
   "metadata": {},
   "outputs": [],
   "source": []
  }
 ],
 "metadata": {
  "kernelspec": {
   "display_name": "Python 3",
   "language": "python",
   "name": "python3"
  },
  "language_info": {
   "codemirror_mode": {
    "name": "ipython",
    "version": 3
   },
   "file_extension": ".py",
   "mimetype": "text/x-python",
   "name": "python",
   "nbconvert_exporter": "python",
   "pygments_lexer": "ipython3",
   "version": "3.8.5"
  },
  "nbTranslate": {
   "displayLangs": [
    "*"
   ],
   "hotkey": "alt-t",
   "langInMainMenu": true,
   "sourceLang": "en",
   "targetLang": "fr",
   "useGoogleTranslate": true
  },
  "toc": {
   "base_numbering": 1,
   "nav_menu": {},
   "number_sections": true,
   "sideBar": true,
   "skip_h1_title": false,
   "title_cell": "Table of Contents",
   "title_sidebar": "Contents",
   "toc_cell": false,
   "toc_position": {},
   "toc_section_display": true,
   "toc_window_display": true
  }
 },
 "nbformat": 4,
 "nbformat_minor": 4
}
