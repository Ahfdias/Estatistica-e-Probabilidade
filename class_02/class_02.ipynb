{
 "cells": [
  {
   "cell_type": "markdown",
   "metadata": {
    "ExecuteTime": {
     "end_time": "2021-02-04T15:24:15.220226Z",
     "start_time": "2021-02-04T15:24:15.162789Z"
    }
   },
   "source": [
    "# Estatística e Probabilidade\n",
    "**Material Produzido por:** \n",
    "- Alessandro Firmiano: http://lattes.cnpq.br/0355957149114778\n",
    "- Carlos Eduardo Cardoso: https://github.com/carlos-cardoso84\n",
    "- João Paulo: http://lattes.cnpq.br/8043024792815551\n",
    "- Mauricio Eloy: https://github.com/MauricioEloy"
   ]
  },
  {
   "cell_type": "markdown",
   "metadata": {},
   "source": [
    "# Bibliotecas"
   ]
  },
  {
   "cell_type": "code",
   "execution_count": 96,
   "metadata": {
    "ExecuteTime": {
     "end_time": "2021-02-05T10:45:26.785290Z",
     "start_time": "2021-02-05T10:45:26.771976Z"
    }
   },
   "outputs": [],
   "source": [
    "from sklearn import datasets\n",
    "import numpy as np\n",
    "import pandas as pd\n",
    "import matplotlib.pyplot as plt\n",
    "%matplotlib inline\n"
   ]
  },
  {
   "cell_type": "markdown",
   "metadata": {},
   "source": [
    " **Organização**\n",
    "\n",
    "* Organização dos dados tem objetivo:\n",
    "\n",
    "  * Facilitar a leitura dos dados;\n",
    "  * Compreensão dos dados;\n",
    "  * Obter informação sobre a população;\n",
    "  * Fazer comparações.\n",
    "\n",
    "* Gráficos\n",
    "  \n",
    "  * Ilustrar de forma visual as informações;\n",
    "  * Importante parte da Estatística Descritiva."
   ]
  },
  {
   "cell_type": "markdown",
   "metadata": {},
   "source": [
    "#  Dados Brutos\n",
    "\n",
    "## Exemplo \n",
    "Dados Brutos (Notas de 70 alunos $[0,100]$)\n"
   ]
  },
  {
   "cell_type": "code",
   "execution_count": 2,
   "metadata": {
    "ExecuteTime": {
     "end_time": "2021-02-05T09:38:27.112705Z",
     "start_time": "2021-02-05T09:38:27.099637Z"
    }
   },
   "outputs": [
    {
     "data": {
      "text/plain": [
       "array([65.35895855, 11.50069431, 95.02828643, 48.21914014, 87.24745352,\n",
       "       21.23326809,  4.07096248, 39.71944613, 23.31321973, 84.17407243,\n",
       "       20.70823444, 74.24695336, 39.21541278, 18.225652  , 74.35394146,\n",
       "        6.9582081 , 88.53372044, 95.26443992, 93.11434347, 41.5430953 ,\n",
       "        2.89816594, 98.20274846, 33.96376836, 70.66871939, 36.18770676,\n",
       "        3.5105898 , 85.50582532, 65.72535081, 76.56829941, 55.4087238 ,\n",
       "       88.50929366, 90.41976154,  1.04217006,  7.45567361, 24.46292098,\n",
       "       13.33047525, 69.79251004, 39.82048835, 88.31221914, 18.10075103,\n",
       "       43.24991718,  1.81432028, 69.14378617, 46.9690652 , 12.82221897,\n",
       "       89.13370513, 91.82036245,  7.31209937,  4.54479432, 43.85728957,\n",
       "       60.17209299, 31.0227034 , 68.1908242 , 20.90131508, 51.96042972,\n",
       "       56.59888306, 44.11673926, 13.75561572, 21.35431911, 13.33718921,\n",
       "       32.22967015, 23.38871152, 52.7498156 , 56.5971162 , 43.82252848,\n",
       "       32.18726241, 55.96408107, 86.53455812, 84.72828774, 10.7817166 ])"
      ]
     },
     "execution_count": 2,
     "metadata": {},
     "output_type": "execute_result"
    }
   ],
   "source": [
    "np.random.seed(1000)\n",
    "x = np.random.uniform(0,100,70)\n",
    "x"
   ]
  },
  {
   "cell_type": "markdown",
   "metadata": {},
   "source": [
    "* Dados fornecem todas as informações individuais, mas não há uma ideia sobre a variação dos valores; difícil identificar valores mínimo e máximo; \n",
    "\n",
    "* Imagine um conjuntos de dados com 10 características e 100 elementos!"
   ]
  },
  {
   "cell_type": "markdown",
   "metadata": {},
   "source": [
    "# Características importantes dos dados\n",
    "\n",
    "* Medida central: Indica onde se localiza o meio dos\n",
    "dados.\n",
    "    * média, moda, mediana\n",
    "* Variação: Indica quanto os valores dos dados variam\n",
    "entre si.\n",
    "  * coeficiente de variação, erro médio, variância, desvio-padrão\n",
    "* Distribuição: Como os dados se distribuem de forma simétrica, assimétrica, na forma de sino uniforme.\n",
    "    * assimétrica (direita, esquerda) ou simétrica; achatamento (achatada, alongada ou normal)\n",
    "* Valores discrepantes (ou outliers)\n",
    "  * um termo que requer cautela\n",
    "* Tempo: Como os dados mudam com o tempo (tendência, ciclos, sazonalidade)"
   ]
  },
  {
   "cell_type": "markdown",
   "metadata": {},
   "source": [
    "# Ferramentas utilizadas\n",
    "\n",
    "* Ordenação de dados\n",
    "* Representação na forma de Tabelas\n",
    "* Representação na forma de gráficos\n",
    "* Fórmulas matemáticas para calcular grandezas\n",
    "    * média, moda, mediana, medidas quantílicas, variânca, coeficiente de variação, coeficiente de assimetria, coeficiente de curtose, etc. \n",
    "* Tecnologia ou cálculo manual?\n",
    "  * Cálculo manual para entender os processos e realizar as provas.\n",
    "  * Cálculo com auxílio de software para problemas maiores-provavelmente exercícios.\n",
    "* Fazer cálculos manuais com alguns exemplos pode ajudar a compreensão dos resultados obtidos pela tecnologia. Além disso evita erros grosseiros por falta de conhecimento técnico. "
   ]
  },
  {
   "cell_type": "markdown",
   "metadata": {},
   "source": [
    "# Ordenação de dados ou Rol\n",
    "\n",
    "* Representação dos dados ordenados ou Rol: $x_1 , x_2, . . . ,x_n$\n",
    "\n",
    "As notas dos 50 alunos ordenadas:\n",
    "$3.67, 9.58, 11.49, 14.77, ... 92.37, 94.38, 98.75$\n",
    "\n",
    "O Mínimo e o Máximo: $x_1= 3.67$ e $x_{50}= 98.7$\n",
    "\n",
    "Amplitude do Rol: $A = x_{50} − x_1= 95.1$\n",
    "\n",
    "*** \n",
    "\n",
    "* O Rol é importante para identificar dados discrepantes ou Outlier. No entanto, um método gráfico pode ter mais apelo visual.\n",
    "\n",
    "* Quais outras informações podem ser obtidas pela análise do Rol?\n",
    "\n",
    "* Uma visualização melhor dos dados pode ser obtida por meio da tabela de Frequências."
   ]
  },
  {
   "cell_type": "markdown",
   "metadata": {},
   "source": [
    "# Atividade\n",
    "\n",
    "## Exercício \n",
    "Gerar 20 amostras com 100 valores de notas. Ordenar os dados e calcular a amplitude total com base na ordenação. \n",
    "* Verificar que as amostras geradas são diferentes (em geral).\n",
    "* Observar as oscilações dos valores mínimo e máximo."
   ]
  },
  {
   "cell_type": "markdown",
   "metadata": {},
   "source": [
    "## Exercício \n",
    "Idem exercício anterior, mas gerar 10 amostras com 100 valores de uma distribuição normal com média $\\mu=170$ e $\\sigma^2=15$. \n",
    "\n",
    "* Observações:\n",
    "  * Note que você está amostrando de uma população uniforme no primeiro caso e uma população normal no segundo caso.\n",
    "  * Ambos os casos produzem amostras diferentes a cada rodada. Logo, todas as medidas resumo (mínimo, máximo) serão distintas. \n",
    "  * Importante observar que, em geral, a média das médias oscila em torno do parâmetro populacional. "
   ]
  },
  {
   "cell_type": "markdown",
   "metadata": {},
   "source": [
    "# Tabela de frequências\n",
    "\n",
    "Definição: Uma distribuição de frequência (ou tabela de frequência)\n",
    "lista os valores dados individualmente ou por intervalos\n",
    "(ou classes) juntamente com sua frequência (contagem)\n",
    "\n",
    "Para construir uma tabela de frequência:\n",
    "\n",
    "* Limite inferior de classe ($l_i$): são so menores números de cada classe.\n",
    "* Limite superior de classe ($L_i$): são os maiores números de cada classe.\n",
    "* Fronteiras de classe: são os números usados para separar as classes, podem pertencer ou não a classe.\n",
    "* Ponto médio das classes ($x_i$): são os pontos médios de cada intervalo que determina a classe.\n",
    "* Amplitude da classe ($A_c$): é a diferença entre os limites inferior e superior de cada classe ou a diferença entre as fronteiras de cada classe.\n",
    "* Número de classes ($N_c$): regra de Sturges \n",
    "\n",
    "$$N_c= 1 + 3.3\\log_{10}(N)$$"
   ]
  },
  {
   "cell_type": "markdown",
   "metadata": {},
   "source": [
    "## Exemplos\n",
    "\n",
    "### Exemplo \n",
    "Considere que em um conjunto de dados ordenados temos $x_1 =155$, $x_n= 190$.\n",
    "\n",
    "Amplitude Rol: $A = 190 − 155 = 35$. \n",
    "\n",
    "Note que 35 é divisível por 7 ou por 5. Podemos optar por $N_c = 5$ ou $N_c = 7$.\n",
    "\n",
    "Amplitude das classes: $N_c= 7$, $A_c=\\dfrac{A}{N_c}=\\dfrac{35}{7}=5$. \n",
    "    \n",
    "    "
   ]
  },
  {
   "cell_type": "markdown",
   "metadata": {},
   "source": [
    "### Exemplo \n",
    "Considere os dados das 70 notas dos alunos anteriormente mencionados."
   ]
  },
  {
   "cell_type": "code",
   "execution_count": 3,
   "metadata": {
    "ExecuteTime": {
     "end_time": "2021-02-05T09:38:27.129341Z",
     "start_time": "2021-02-05T09:38:27.115359Z"
    }
   },
   "outputs": [
    {
     "name": "stdout",
     "output_type": "stream",
     "text": [
      "1.0 - 14.9     10\n",
      "14.9 - 28.8    10\n",
      "28.8 - 42.7    10\n",
      "42.7 - 56.6    10\n",
      "56.6 - 70.5    10\n",
      "70.5 - 84.4    10\n",
      "84.4 - 98.3    10\n",
      "dtype: int64\n",
      "total 70\n"
     ]
    }
   ],
   "source": [
    "np.random.seed(1000)\n",
    "x = np.random.uniform(0,100,70)\n",
    "x = np.sort(x)\n",
    "N = len(x)\n",
    "Nc = np.floor(1 + 3.33*np.log10(N))\n",
    "A = np.round(np.max(x) - np.min(x),1)\n",
    "Ac = np.round(A/Nc,1)\n",
    "freq = []\n",
    "valor = np.min(x)\n",
    "while valor < np.max(x):\n",
    "    freq.append('{} - {}'.format(round(valor,1),round(valor+Ac,1)))\n",
    "    valor += Ac\n",
    "freq_abs = pd.qcut(x,len(freq),labels=freq) \n",
    "x_freq = pd.value_counts(freq_abs,sort=False)\n",
    "print(x_freq)\n",
    "print('total', np.sum(x_freq))"
   ]
  },
  {
   "cell_type": "markdown",
   "metadata": {},
   "source": [
    "Nota: Cuidado ao utilizar softwares para construir a distribuição de frequências. A distribuição pode estar incorreta! Verificações são sempre necessárias. Veja o código a seguir! "
   ]
  },
  {
   "cell_type": "markdown",
   "metadata": {},
   "source": [
    "### Exemplo \n",
    "(Sem intervalos de classe): Amostra de tamanho 170 de uma população de notas $\\{0,1,\\cdots,10\\}$.\n"
   ]
  },
  {
   "cell_type": "code",
   "execution_count": 4,
   "metadata": {
    "ExecuteTime": {
     "end_time": "2021-02-05T09:38:27.137641Z",
     "start_time": "2021-02-05T09:38:27.131657Z"
    }
   },
   "outputs": [
    {
     "name": "stdout",
     "output_type": "stream",
     "text": [
      "0     18\n",
      "1     19\n",
      "2     16\n",
      "3     21\n",
      "4     20\n",
      "5     12\n",
      "6     13\n",
      "7     15\n",
      "8     13\n",
      "9     12\n",
      "10    11\n",
      "dtype: int64\n",
      "total 170\n"
     ]
    }
   ],
   "source": [
    "x = np.random.choice(11,170)\n",
    "x_freq = pd.value_counts(x,sort=False)\n",
    "print(x_freq)\n",
    "print('total', np.sum(x_freq))"
   ]
  },
  {
   "cell_type": "markdown",
   "metadata": {
    "ExecuteTime": {
     "end_time": "2021-02-05T09:14:42.054393Z",
     "start_time": "2021-02-05T09:14:42.045112Z"
    }
   },
   "source": [
    "Trazem informação suficiente para reprodução dos dados. "
   ]
  },
  {
   "cell_type": "markdown",
   "metadata": {},
   "source": [
    "### Exemplo  \n",
    "(Com intervalos de classe): Amostra de tamanho 250 no intervalo $[0,10]$"
   ]
  },
  {
   "cell_type": "code",
   "execution_count": 5,
   "metadata": {
    "ExecuteTime": {
     "end_time": "2021-02-05T09:38:27.151226Z",
     "start_time": "2021-02-05T09:38:27.139702Z"
    }
   },
   "outputs": [
    {
     "name": "stdout",
     "output_type": "stream",
     "text": [
      "0.0 - 1.2     28\n",
      "1.2 - 2.4     28\n",
      "2.4 - 3.6     28\n",
      "3.6 - 4.8     27\n",
      "4.8 - 6.0     28\n",
      "6.0 - 7.2     28\n",
      "7.2 - 8.4     27\n",
      "8.4 - 9.6     28\n",
      "9.6 - 10.8    28\n",
      "dtype: int64\n",
      "total 250\n"
     ]
    }
   ],
   "source": [
    "np.random.seed(1000)\n",
    "x = np.random.uniform(0,10,250)\n",
    "x = np.sort(x)\n",
    "N = len(x)\n",
    "Nc = np.floor(1 + 3.33*np.log10(N))\n",
    "A = np.round(np.max(x) - np.min(x),1)\n",
    "Ac = np.round(A/Nc,1)\n",
    "freq = []\n",
    "valor = np.min(x)\n",
    "while valor < np.max(x):\n",
    "    freq.append('{} - {}'.format(round(valor,1),round(valor+Ac,1)))\n",
    "    valor += Ac\n",
    "freq_abs = pd.qcut(x,len(freq),labels=freq) \n",
    "x_freq = pd.value_counts(freq_abs,sort=False)\n",
    "print(x_freq)\n",
    "print('total', np.sum(x_freq))"
   ]
  },
  {
   "cell_type": "markdown",
   "metadata": {
    "ExecuteTime": {
     "end_time": "2021-02-05T09:29:57.102550Z",
     "start_time": "2021-02-05T09:29:57.090381Z"
    }
   },
   "source": [
    "* Não trazem informação suficiente para reprodução dos dados. \n",
    "* Se existem classes com zero elementos, é indicado obter uma outra distribuição com intervalos de classe. "
   ]
  },
  {
   "cell_type": "markdown",
   "metadata": {
    "ExecuteTime": {
     "end_time": "2021-02-05T09:38:27.159203Z",
     "start_time": "2021-02-05T09:38:27.152969Z"
    }
   },
   "source": [
    "## Procedimento para construção da tabela de frequências\n",
    "\n",
    "Para construir uma tabela de frequência:\n",
    "\n",
    "* Passo 1: Ordenação dos dados $x_1, x_2, . . . , x_n$,\n",
    "* Passo 2: Calcular a amplitude do Rol: $A = x_n-x_1$\n",
    "* Passo 3: Calcular o número de classes (aproximadamente) $N\\approx 1 + 3.3\\log_{10} (N)$ ,\n",
    "* Passo 4: Calcular a amplitude das classes $A_c \\approx A/N_c$\n",
    "* Passo 5: Calcular os limites inferior e superior de cada classe\n",
    "* Passo 6: Contagem das observações dentro de cada classe\n"
   ]
  },
  {
   "cell_type": "markdown",
   "metadata": {},
   "source": [
    "# Atividade\n",
    "\n",
    "## Exercício (Manual) \n",
    "Construir uma distribuição de frequências sem intervalos de classes. Use o código a seguir para gerar os números.  "
   ]
  },
  {
   "cell_type": "code",
   "execution_count": 9,
   "metadata": {
    "ExecuteTime": {
     "end_time": "2021-02-05T09:42:44.836796Z",
     "start_time": "2021-02-05T09:42:44.825918Z"
    }
   },
   "outputs": [
    {
     "data": {
      "text/plain": [
       "array([ 8,  2,  0,  1,  1,  1,  3,  6,  4,  6,  8,  1,  9,  3, 10,  5,  0,\n",
       "       10,  1,  1,  6,  9, 10,  5,  1,  1,  8,  7,  3,  3])"
      ]
     },
     "execution_count": 9,
     "metadata": {},
     "output_type": "execute_result"
    }
   ],
   "source": [
    "x = np.random.choice(11,30)\n",
    "x"
   ]
  },
  {
   "cell_type": "markdown",
   "metadata": {},
   "source": [
    "## Exercício (Manual) \n",
    "Construir uma distribuição de frequências com intervalos de classes de acordo com a Regra de Sturges. Use o código a seguir para gerar os números.  "
   ]
  },
  {
   "cell_type": "code",
   "execution_count": 11,
   "metadata": {
    "ExecuteTime": {
     "end_time": "2021-02-05T09:43:54.574162Z",
     "start_time": "2021-02-05T09:43:54.561190Z"
    }
   },
   "outputs": [
    {
     "data": {
      "text/plain": [
       "array([0.06081057, 0.1238706 , 0.48659479, 0.76274877, 0.14939763,\n",
       "       0.57369917, 0.15099925, 0.38322831, 0.35761081, 0.8629449 ,\n",
       "       0.12898842, 0.53770259, 0.04167163, 0.71341159, 0.54183301,\n",
       "       0.56992859, 0.44977947, 0.47704377, 0.52037603, 0.4284886 ,\n",
       "       0.60348351, 0.36249912, 0.46114938, 0.41939143, 0.15386834,\n",
       "       0.79534509, 0.65174177, 0.23509591, 0.29213805, 0.31468105])"
      ]
     },
     "execution_count": 11,
     "metadata": {},
     "output_type": "execute_result"
    }
   ],
   "source": [
    "x = np.random.random(30)\n",
    "x"
   ]
  },
  {
   "cell_type": "markdown",
   "metadata": {},
   "source": [
    "# Outras Frequências \n",
    "\n",
    "* Frequência Relativa: $Fr=\\dfrac{f_i}{\\sum_{i=1^k}f_i}$\n",
    "* Frequência Relativa Percentual: $Fr_p=100*Fr$\n",
    "* Frequência Acumulada: $Fa_i=\\sum_{k=1}^{i}f_k$\n",
    "* Frequência Relativa Acumulada: $Fra_i=\\sum_{k=1}^{i}Fr_k$"
   ]
  },
  {
   "cell_type": "markdown",
   "metadata": {},
   "source": [
    "## Exemplos\n",
    "\n",
    "### Exemplo \n",
    "150 dados gerados de uma população normal com $\\mu=0$ e $\\sigma^2=1.0$"
   ]
  },
  {
   "cell_type": "code",
   "execution_count": 47,
   "metadata": {
    "ExecuteTime": {
     "end_time": "2021-02-05T10:06:08.243463Z",
     "start_time": "2021-02-05T10:06:08.203191Z"
    }
   },
   "outputs": [
    {
     "data": {
      "text/html": [
       "<div>\n",
       "<style scoped>\n",
       "    .dataframe tbody tr th:only-of-type {\n",
       "        vertical-align: middle;\n",
       "    }\n",
       "\n",
       "    .dataframe tbody tr th {\n",
       "        vertical-align: top;\n",
       "    }\n",
       "\n",
       "    .dataframe thead th {\n",
       "        text-align: right;\n",
       "    }\n",
       "</style>\n",
       "<table border=\"1\" class=\"dataframe\">\n",
       "  <thead>\n",
       "    <tr style=\"text-align: right;\">\n",
       "      <th></th>\n",
       "      <th>f_i</th>\n",
       "      <th>Fr_i</th>\n",
       "      <th>Frp_i</th>\n",
       "      <th>Fa_i</th>\n",
       "      <th>Fra_i</th>\n",
       "      <th>Frap_i</th>\n",
       "    </tr>\n",
       "  </thead>\n",
       "  <tbody>\n",
       "    <tr>\n",
       "      <th>-2.9 - -2.2</th>\n",
       "      <td>17</td>\n",
       "      <td>0.113333</td>\n",
       "      <td>11.333333</td>\n",
       "      <td>17</td>\n",
       "      <td>0.113333</td>\n",
       "      <td>11.333333</td>\n",
       "    </tr>\n",
       "    <tr>\n",
       "      <th>-2.2 - -1.5</th>\n",
       "      <td>17</td>\n",
       "      <td>0.113333</td>\n",
       "      <td>11.333333</td>\n",
       "      <td>34</td>\n",
       "      <td>0.226667</td>\n",
       "      <td>22.666667</td>\n",
       "    </tr>\n",
       "    <tr>\n",
       "      <th>-1.5 - -0.8</th>\n",
       "      <td>16</td>\n",
       "      <td>0.106667</td>\n",
       "      <td>10.666667</td>\n",
       "      <td>50</td>\n",
       "      <td>0.333333</td>\n",
       "      <td>33.333333</td>\n",
       "    </tr>\n",
       "    <tr>\n",
       "      <th>-0.8 - -0.1</th>\n",
       "      <td>17</td>\n",
       "      <td>0.113333</td>\n",
       "      <td>11.333333</td>\n",
       "      <td>67</td>\n",
       "      <td>0.446667</td>\n",
       "      <td>44.666667</td>\n",
       "    </tr>\n",
       "    <tr>\n",
       "      <th>-0.1 - 0.6</th>\n",
       "      <td>16</td>\n",
       "      <td>0.106667</td>\n",
       "      <td>10.666667</td>\n",
       "      <td>83</td>\n",
       "      <td>0.553333</td>\n",
       "      <td>55.333333</td>\n",
       "    </tr>\n",
       "    <tr>\n",
       "      <th>0.6 - 1.3</th>\n",
       "      <td>17</td>\n",
       "      <td>0.113333</td>\n",
       "      <td>11.333333</td>\n",
       "      <td>100</td>\n",
       "      <td>0.666667</td>\n",
       "      <td>66.666667</td>\n",
       "    </tr>\n",
       "    <tr>\n",
       "      <th>1.3 - 2.0</th>\n",
       "      <td>16</td>\n",
       "      <td>0.106667</td>\n",
       "      <td>10.666667</td>\n",
       "      <td>116</td>\n",
       "      <td>0.773333</td>\n",
       "      <td>77.333333</td>\n",
       "    </tr>\n",
       "    <tr>\n",
       "      <th>2.0 - 2.7</th>\n",
       "      <td>17</td>\n",
       "      <td>0.113333</td>\n",
       "      <td>11.333333</td>\n",
       "      <td>133</td>\n",
       "      <td>0.886667</td>\n",
       "      <td>88.666667</td>\n",
       "    </tr>\n",
       "    <tr>\n",
       "      <th>2.7 - 3.4</th>\n",
       "      <td>17</td>\n",
       "      <td>0.113333</td>\n",
       "      <td>11.333333</td>\n",
       "      <td>150</td>\n",
       "      <td>1.000000</td>\n",
       "      <td>100.000000</td>\n",
       "    </tr>\n",
       "  </tbody>\n",
       "</table>\n",
       "</div>"
      ],
      "text/plain": [
       "             f_i      Fr_i      Frp_i  Fa_i     Fra_i      Frap_i\n",
       "-2.9 - -2.2   17  0.113333  11.333333    17  0.113333   11.333333\n",
       "-2.2 - -1.5   17  0.113333  11.333333    34  0.226667   22.666667\n",
       "-1.5 - -0.8   16  0.106667  10.666667    50  0.333333   33.333333\n",
       "-0.8 - -0.1   17  0.113333  11.333333    67  0.446667   44.666667\n",
       "-0.1 - 0.6    16  0.106667  10.666667    83  0.553333   55.333333\n",
       "0.6 - 1.3     17  0.113333  11.333333   100  0.666667   66.666667\n",
       "1.3 - 2.0     16  0.106667  10.666667   116  0.773333   77.333333\n",
       "2.0 - 2.7     17  0.113333  11.333333   133  0.886667   88.666667\n",
       "2.7 - 3.4     17  0.113333  11.333333   150  1.000000  100.000000"
      ]
     },
     "execution_count": 47,
     "metadata": {},
     "output_type": "execute_result"
    }
   ],
   "source": [
    "np.random.seed(1000)\n",
    "x = np.random.normal(0,1,150)\n",
    "x = np.sort(x)\n",
    "N = len(x)\n",
    "Nc = np.floor(1 + 3.33*np.log10(N))\n",
    "A = np.round(np.max(x) - np.min(x),1)\n",
    "Ac = np.round(A/Nc,1)\n",
    "freq = []\n",
    "valor = np.min(x)\n",
    "while valor < np.max(x):\n",
    "    freq.append('{} - {}'.format(round(valor,1),round(valor+Ac,1)))\n",
    "    valor += Ac\n",
    "freq_abs = pd.qcut(x,len(freq),labels=freq) \n",
    "f_i = pd.value_counts(freq_abs,sort=False)\n",
    "Fr_i=f_i/np.sum(f_i)#frequencia relativa\n",
    "Frp_i=100*Fr_i#frequencia relativa percentual\n",
    "Fa_i=np.cumsum(f_i) #frequencia acumulada\n",
    "Fra_i=np.cumsum(Fr_i)##frequencia relativa acumulada\n",
    "Frap_i=100*Fra_i#frequencia relativa acumulada\n",
    "d = {'f_i':f_i,\n",
    "    'Fr_i':Fr_i,\n",
    "    'Frp_i':Frp_i,\n",
    "    'Fa_i':Fa_i,\n",
    "    'Fra_i':Fra_i,\n",
    "    'Frap_i':Frap_i}\n",
    "table = pd.DataFrame(data=d,columns=['f_i','Fr_i','Frp_i','Fa_i','Fra_i','Frap_i'])\n",
    "table"
   ]
  },
  {
   "cell_type": "markdown",
   "metadata": {
    "ExecuteTime": {
     "end_time": "2021-02-05T10:02:15.491355Z",
     "start_time": "2021-02-05T10:02:15.480719Z"
    }
   },
   "source": [
    "### Exemplo\n",
    "Exemplo: Dados `boston` e considerando `DIS` para fazer tabela de distribuição.\n"
   ]
  },
  {
   "cell_type": "code",
   "execution_count": 72,
   "metadata": {
    "ExecuteTime": {
     "end_time": "2021-02-05T10:25:21.868044Z",
     "start_time": "2021-02-05T10:25:21.830854Z"
    }
   },
   "outputs": [
    {
     "data": {
      "text/html": [
       "<div>\n",
       "<style scoped>\n",
       "    .dataframe tbody tr th:only-of-type {\n",
       "        vertical-align: middle;\n",
       "    }\n",
       "\n",
       "    .dataframe tbody tr th {\n",
       "        vertical-align: top;\n",
       "    }\n",
       "\n",
       "    .dataframe thead th {\n",
       "        text-align: right;\n",
       "    }\n",
       "</style>\n",
       "<table border=\"1\" class=\"dataframe\">\n",
       "  <thead>\n",
       "    <tr style=\"text-align: right;\">\n",
       "      <th></th>\n",
       "      <th>CRIM</th>\n",
       "      <th>ZN</th>\n",
       "      <th>INDUS</th>\n",
       "      <th>CHAS</th>\n",
       "      <th>NOX</th>\n",
       "      <th>RM</th>\n",
       "      <th>AGE</th>\n",
       "      <th>DIS</th>\n",
       "      <th>RAD</th>\n",
       "      <th>TAX</th>\n",
       "      <th>PTRATIO</th>\n",
       "      <th>B</th>\n",
       "      <th>LSTAT</th>\n",
       "      <th>PRICE</th>\n",
       "    </tr>\n",
       "  </thead>\n",
       "  <tbody>\n",
       "    <tr>\n",
       "      <th>0</th>\n",
       "      <td>0.00632</td>\n",
       "      <td>18.0</td>\n",
       "      <td>2.31</td>\n",
       "      <td>0.0</td>\n",
       "      <td>0.538</td>\n",
       "      <td>6.575</td>\n",
       "      <td>65.2</td>\n",
       "      <td>4.0900</td>\n",
       "      <td>1.0</td>\n",
       "      <td>296.0</td>\n",
       "      <td>15.3</td>\n",
       "      <td>396.90</td>\n",
       "      <td>4.98</td>\n",
       "      <td>24.0</td>\n",
       "    </tr>\n",
       "    <tr>\n",
       "      <th>1</th>\n",
       "      <td>0.02731</td>\n",
       "      <td>0.0</td>\n",
       "      <td>7.07</td>\n",
       "      <td>0.0</td>\n",
       "      <td>0.469</td>\n",
       "      <td>6.421</td>\n",
       "      <td>78.9</td>\n",
       "      <td>4.9671</td>\n",
       "      <td>2.0</td>\n",
       "      <td>242.0</td>\n",
       "      <td>17.8</td>\n",
       "      <td>396.90</td>\n",
       "      <td>9.14</td>\n",
       "      <td>21.6</td>\n",
       "    </tr>\n",
       "    <tr>\n",
       "      <th>2</th>\n",
       "      <td>0.02729</td>\n",
       "      <td>0.0</td>\n",
       "      <td>7.07</td>\n",
       "      <td>0.0</td>\n",
       "      <td>0.469</td>\n",
       "      <td>7.185</td>\n",
       "      <td>61.1</td>\n",
       "      <td>4.9671</td>\n",
       "      <td>2.0</td>\n",
       "      <td>242.0</td>\n",
       "      <td>17.8</td>\n",
       "      <td>392.83</td>\n",
       "      <td>4.03</td>\n",
       "      <td>34.7</td>\n",
       "    </tr>\n",
       "    <tr>\n",
       "      <th>3</th>\n",
       "      <td>0.03237</td>\n",
       "      <td>0.0</td>\n",
       "      <td>2.18</td>\n",
       "      <td>0.0</td>\n",
       "      <td>0.458</td>\n",
       "      <td>6.998</td>\n",
       "      <td>45.8</td>\n",
       "      <td>6.0622</td>\n",
       "      <td>3.0</td>\n",
       "      <td>222.0</td>\n",
       "      <td>18.7</td>\n",
       "      <td>394.63</td>\n",
       "      <td>2.94</td>\n",
       "      <td>33.4</td>\n",
       "    </tr>\n",
       "    <tr>\n",
       "      <th>4</th>\n",
       "      <td>0.06905</td>\n",
       "      <td>0.0</td>\n",
       "      <td>2.18</td>\n",
       "      <td>0.0</td>\n",
       "      <td>0.458</td>\n",
       "      <td>7.147</td>\n",
       "      <td>54.2</td>\n",
       "      <td>6.0622</td>\n",
       "      <td>3.0</td>\n",
       "      <td>222.0</td>\n",
       "      <td>18.7</td>\n",
       "      <td>396.90</td>\n",
       "      <td>5.33</td>\n",
       "      <td>36.2</td>\n",
       "    </tr>\n",
       "    <tr>\n",
       "      <th>...</th>\n",
       "      <td>...</td>\n",
       "      <td>...</td>\n",
       "      <td>...</td>\n",
       "      <td>...</td>\n",
       "      <td>...</td>\n",
       "      <td>...</td>\n",
       "      <td>...</td>\n",
       "      <td>...</td>\n",
       "      <td>...</td>\n",
       "      <td>...</td>\n",
       "      <td>...</td>\n",
       "      <td>...</td>\n",
       "      <td>...</td>\n",
       "      <td>...</td>\n",
       "    </tr>\n",
       "    <tr>\n",
       "      <th>501</th>\n",
       "      <td>0.06263</td>\n",
       "      <td>0.0</td>\n",
       "      <td>11.93</td>\n",
       "      <td>0.0</td>\n",
       "      <td>0.573</td>\n",
       "      <td>6.593</td>\n",
       "      <td>69.1</td>\n",
       "      <td>2.4786</td>\n",
       "      <td>1.0</td>\n",
       "      <td>273.0</td>\n",
       "      <td>21.0</td>\n",
       "      <td>391.99</td>\n",
       "      <td>9.67</td>\n",
       "      <td>22.4</td>\n",
       "    </tr>\n",
       "    <tr>\n",
       "      <th>502</th>\n",
       "      <td>0.04527</td>\n",
       "      <td>0.0</td>\n",
       "      <td>11.93</td>\n",
       "      <td>0.0</td>\n",
       "      <td>0.573</td>\n",
       "      <td>6.120</td>\n",
       "      <td>76.7</td>\n",
       "      <td>2.2875</td>\n",
       "      <td>1.0</td>\n",
       "      <td>273.0</td>\n",
       "      <td>21.0</td>\n",
       "      <td>396.90</td>\n",
       "      <td>9.08</td>\n",
       "      <td>20.6</td>\n",
       "    </tr>\n",
       "    <tr>\n",
       "      <th>503</th>\n",
       "      <td>0.06076</td>\n",
       "      <td>0.0</td>\n",
       "      <td>11.93</td>\n",
       "      <td>0.0</td>\n",
       "      <td>0.573</td>\n",
       "      <td>6.976</td>\n",
       "      <td>91.0</td>\n",
       "      <td>2.1675</td>\n",
       "      <td>1.0</td>\n",
       "      <td>273.0</td>\n",
       "      <td>21.0</td>\n",
       "      <td>396.90</td>\n",
       "      <td>5.64</td>\n",
       "      <td>23.9</td>\n",
       "    </tr>\n",
       "    <tr>\n",
       "      <th>504</th>\n",
       "      <td>0.10959</td>\n",
       "      <td>0.0</td>\n",
       "      <td>11.93</td>\n",
       "      <td>0.0</td>\n",
       "      <td>0.573</td>\n",
       "      <td>6.794</td>\n",
       "      <td>89.3</td>\n",
       "      <td>2.3889</td>\n",
       "      <td>1.0</td>\n",
       "      <td>273.0</td>\n",
       "      <td>21.0</td>\n",
       "      <td>393.45</td>\n",
       "      <td>6.48</td>\n",
       "      <td>22.0</td>\n",
       "    </tr>\n",
       "    <tr>\n",
       "      <th>505</th>\n",
       "      <td>0.04741</td>\n",
       "      <td>0.0</td>\n",
       "      <td>11.93</td>\n",
       "      <td>0.0</td>\n",
       "      <td>0.573</td>\n",
       "      <td>6.030</td>\n",
       "      <td>80.8</td>\n",
       "      <td>2.5050</td>\n",
       "      <td>1.0</td>\n",
       "      <td>273.0</td>\n",
       "      <td>21.0</td>\n",
       "      <td>396.90</td>\n",
       "      <td>7.88</td>\n",
       "      <td>11.9</td>\n",
       "    </tr>\n",
       "  </tbody>\n",
       "</table>\n",
       "<p>506 rows × 14 columns</p>\n",
       "</div>"
      ],
      "text/plain": [
       "        CRIM    ZN  INDUS  CHAS    NOX     RM   AGE     DIS  RAD    TAX  \\\n",
       "0    0.00632  18.0   2.31   0.0  0.538  6.575  65.2  4.0900  1.0  296.0   \n",
       "1    0.02731   0.0   7.07   0.0  0.469  6.421  78.9  4.9671  2.0  242.0   \n",
       "2    0.02729   0.0   7.07   0.0  0.469  7.185  61.1  4.9671  2.0  242.0   \n",
       "3    0.03237   0.0   2.18   0.0  0.458  6.998  45.8  6.0622  3.0  222.0   \n",
       "4    0.06905   0.0   2.18   0.0  0.458  7.147  54.2  6.0622  3.0  222.0   \n",
       "..       ...   ...    ...   ...    ...    ...   ...     ...  ...    ...   \n",
       "501  0.06263   0.0  11.93   0.0  0.573  6.593  69.1  2.4786  1.0  273.0   \n",
       "502  0.04527   0.0  11.93   0.0  0.573  6.120  76.7  2.2875  1.0  273.0   \n",
       "503  0.06076   0.0  11.93   0.0  0.573  6.976  91.0  2.1675  1.0  273.0   \n",
       "504  0.10959   0.0  11.93   0.0  0.573  6.794  89.3  2.3889  1.0  273.0   \n",
       "505  0.04741   0.0  11.93   0.0  0.573  6.030  80.8  2.5050  1.0  273.0   \n",
       "\n",
       "     PTRATIO       B  LSTAT  PRICE  \n",
       "0       15.3  396.90   4.98   24.0  \n",
       "1       17.8  396.90   9.14   21.6  \n",
       "2       17.8  392.83   4.03   34.7  \n",
       "3       18.7  394.63   2.94   33.4  \n",
       "4       18.7  396.90   5.33   36.2  \n",
       "..       ...     ...    ...    ...  \n",
       "501     21.0  391.99   9.67   22.4  \n",
       "502     21.0  396.90   9.08   20.6  \n",
       "503     21.0  396.90   5.64   23.9  \n",
       "504     21.0  393.45   6.48   22.0  \n",
       "505     21.0  396.90   7.88   11.9  \n",
       "\n",
       "[506 rows x 14 columns]"
      ]
     },
     "execution_count": 72,
     "metadata": {},
     "output_type": "execute_result"
    }
   ],
   "source": [
    "boston = datasets.load_boston()\n",
    "df_boston = pd.DataFrame(data=boston['data'],columns=boston['feature_names'])\n",
    "df_boston['PRICE'] = boston['target']\n",
    "df_boston"
   ]
  },
  {
   "cell_type": "code",
   "execution_count": 73,
   "metadata": {
    "ExecuteTime": {
     "end_time": "2021-02-05T10:26:28.518186Z",
     "start_time": "2021-02-05T10:26:28.472381Z"
    }
   },
   "outputs": [
    {
     "data": {
      "text/html": [
       "<div>\n",
       "<style scoped>\n",
       "    .dataframe tbody tr th:only-of-type {\n",
       "        vertical-align: middle;\n",
       "    }\n",
       "\n",
       "    .dataframe tbody tr th {\n",
       "        vertical-align: top;\n",
       "    }\n",
       "\n",
       "    .dataframe thead th {\n",
       "        text-align: right;\n",
       "    }\n",
       "</style>\n",
       "<table border=\"1\" class=\"dataframe\">\n",
       "  <thead>\n",
       "    <tr style=\"text-align: right;\">\n",
       "      <th></th>\n",
       "      <th>f_i</th>\n",
       "      <th>Fr_i</th>\n",
       "      <th>Frp_i</th>\n",
       "      <th>Fa_i</th>\n",
       "      <th>Fra_i</th>\n",
       "      <th>Frap_i</th>\n",
       "    </tr>\n",
       "  </thead>\n",
       "  <tbody>\n",
       "    <tr>\n",
       "      <th>1.1 - 2.2</th>\n",
       "      <td>51</td>\n",
       "      <td>0.100791</td>\n",
       "      <td>10.079051</td>\n",
       "      <td>51</td>\n",
       "      <td>0.100791</td>\n",
       "      <td>10.079051</td>\n",
       "    </tr>\n",
       "    <tr>\n",
       "      <th>2.2 - 3.3</th>\n",
       "      <td>52</td>\n",
       "      <td>0.102767</td>\n",
       "      <td>10.276680</td>\n",
       "      <td>103</td>\n",
       "      <td>0.203557</td>\n",
       "      <td>20.355731</td>\n",
       "    </tr>\n",
       "    <tr>\n",
       "      <th>3.3 - 4.4</th>\n",
       "      <td>49</td>\n",
       "      <td>0.096838</td>\n",
       "      <td>9.683794</td>\n",
       "      <td>152</td>\n",
       "      <td>0.300395</td>\n",
       "      <td>30.039526</td>\n",
       "    </tr>\n",
       "    <tr>\n",
       "      <th>4.4 - 5.5</th>\n",
       "      <td>51</td>\n",
       "      <td>0.100791</td>\n",
       "      <td>10.079051</td>\n",
       "      <td>203</td>\n",
       "      <td>0.401186</td>\n",
       "      <td>40.118577</td>\n",
       "    </tr>\n",
       "    <tr>\n",
       "      <th>5.5 - 6.6</th>\n",
       "      <td>50</td>\n",
       "      <td>0.098814</td>\n",
       "      <td>9.881423</td>\n",
       "      <td>253</td>\n",
       "      <td>0.500000</td>\n",
       "      <td>50.000000</td>\n",
       "    </tr>\n",
       "    <tr>\n",
       "      <th>6.6 - 7.7</th>\n",
       "      <td>51</td>\n",
       "      <td>0.100791</td>\n",
       "      <td>10.079051</td>\n",
       "      <td>304</td>\n",
       "      <td>0.600791</td>\n",
       "      <td>60.079051</td>\n",
       "    </tr>\n",
       "    <tr>\n",
       "      <th>7.7 - 8.8</th>\n",
       "      <td>51</td>\n",
       "      <td>0.100791</td>\n",
       "      <td>10.079051</td>\n",
       "      <td>355</td>\n",
       "      <td>0.701581</td>\n",
       "      <td>70.158103</td>\n",
       "    </tr>\n",
       "    <tr>\n",
       "      <th>8.8 - 9.9</th>\n",
       "      <td>50</td>\n",
       "      <td>0.098814</td>\n",
       "      <td>9.881423</td>\n",
       "      <td>405</td>\n",
       "      <td>0.800395</td>\n",
       "      <td>80.039526</td>\n",
       "    </tr>\n",
       "    <tr>\n",
       "      <th>9.9 - 11.0</th>\n",
       "      <td>50</td>\n",
       "      <td>0.098814</td>\n",
       "      <td>9.881423</td>\n",
       "      <td>455</td>\n",
       "      <td>0.899209</td>\n",
       "      <td>89.920949</td>\n",
       "    </tr>\n",
       "    <tr>\n",
       "      <th>11.0 - 12.1</th>\n",
       "      <td>51</td>\n",
       "      <td>0.100791</td>\n",
       "      <td>10.079051</td>\n",
       "      <td>506</td>\n",
       "      <td>1.000000</td>\n",
       "      <td>100.000000</td>\n",
       "    </tr>\n",
       "  </tbody>\n",
       "</table>\n",
       "</div>"
      ],
      "text/plain": [
       "             f_i      Fr_i      Frp_i  Fa_i     Fra_i      Frap_i\n",
       "1.1 - 2.2     51  0.100791  10.079051    51  0.100791   10.079051\n",
       "2.2 - 3.3     52  0.102767  10.276680   103  0.203557   20.355731\n",
       "3.3 - 4.4     49  0.096838   9.683794   152  0.300395   30.039526\n",
       "4.4 - 5.5     51  0.100791  10.079051   203  0.401186   40.118577\n",
       "5.5 - 6.6     50  0.098814   9.881423   253  0.500000   50.000000\n",
       "6.6 - 7.7     51  0.100791  10.079051   304  0.600791   60.079051\n",
       "7.7 - 8.8     51  0.100791  10.079051   355  0.701581   70.158103\n",
       "8.8 - 9.9     50  0.098814   9.881423   405  0.800395   80.039526\n",
       "9.9 - 11.0    50  0.098814   9.881423   455  0.899209   89.920949\n",
       "11.0 - 12.1   51  0.100791  10.079051   506  1.000000  100.000000"
      ]
     },
     "execution_count": 73,
     "metadata": {},
     "output_type": "execute_result"
    }
   ],
   "source": [
    "x = df_boston['DIS']\n",
    "x = np.sort(x)\n",
    "N = len(x)\n",
    "Nc = np.floor(1 + 3.33*np.log10(N))\n",
    "A = np.round(np.max(x) - np.min(x),1)\n",
    "Ac = np.round(A/Nc,1)\n",
    "freq = []\n",
    "valor = np.min(x)\n",
    "while valor < np.max(x):\n",
    "    freq.append('{} - {}'.format(round(valor,1),round(valor+Ac,1)))\n",
    "    valor += Ac\n",
    "freq_abs = pd.qcut(x,len(freq),labels=freq) \n",
    "f_i = pd.value_counts(freq_abs,sort=False)\n",
    "Fr_i=f_i/np.sum(f_i)#frequencia relativa\n",
    "Frp_i=100*Fr_i#frequencia relativa percentual\n",
    "Fa_i=np.cumsum(f_i) #frequencia acumulada\n",
    "Fra_i=np.cumsum(Fr_i)##frequencia relativa acumulada\n",
    "Frap_i=100*Fra_i#frequencia relativa acumulada\n",
    "d = {'f_i':f_i,\n",
    "    'Fr_i':Fr_i,\n",
    "    'Frp_i':Frp_i,\n",
    "    'Fa_i':Fa_i,\n",
    "    'Fra_i':Fra_i,\n",
    "    'Frap_i':Frap_i}\n",
    "table = pd.DataFrame(data=d,columns=['f_i','Fr_i','Frp_i','Fa_i','Fra_i','Frap_i'])\n",
    "table"
   ]
  },
  {
   "cell_type": "markdown",
   "metadata": {
    "ExecuteTime": {
     "end_time": "2021-02-05T10:29:50.474466Z",
     "start_time": "2021-02-05T10:29:50.466207Z"
    }
   },
   "source": [
    "# Atividade\n",
    "\n",
    "Fazer outras três distribuições de frequências do conjunto de dados Boston House Prices."
   ]
  },
  {
   "cell_type": "markdown",
   "metadata": {},
   "source": [
    "# Considerações adicionais\n",
    "## Exemplo \n",
    "Considere o seguinte conjunto de dados mostrado na forma gráfica."
   ]
  },
  {
   "cell_type": "code",
   "execution_count": 113,
   "metadata": {
    "ExecuteTime": {
     "end_time": "2021-02-05T10:54:23.541392Z",
     "start_time": "2021-02-05T10:54:23.508972Z"
    }
   },
   "outputs": [
    {
     "data": {
      "text/html": [
       "<div>\n",
       "<style scoped>\n",
       "    .dataframe tbody tr th:only-of-type {\n",
       "        vertical-align: middle;\n",
       "    }\n",
       "\n",
       "    .dataframe tbody tr th {\n",
       "        vertical-align: top;\n",
       "    }\n",
       "\n",
       "    .dataframe thead th {\n",
       "        text-align: right;\n",
       "    }\n",
       "</style>\n",
       "<table border=\"1\" class=\"dataframe\">\n",
       "  <thead>\n",
       "    <tr style=\"text-align: right;\">\n",
       "      <th></th>\n",
       "      <th>f_i</th>\n",
       "      <th>Fr_i</th>\n",
       "      <th>Frp_i</th>\n",
       "      <th>Fa_i</th>\n",
       "      <th>Fra_i</th>\n",
       "      <th>Frap_i</th>\n",
       "    </tr>\n",
       "  </thead>\n",
       "  <tbody>\n",
       "    <tr>\n",
       "      <th>150.1 - 154.6</th>\n",
       "      <td>15</td>\n",
       "      <td>0.15</td>\n",
       "      <td>15.0</td>\n",
       "      <td>15</td>\n",
       "      <td>0.15</td>\n",
       "      <td>15.0</td>\n",
       "    </tr>\n",
       "    <tr>\n",
       "      <th>154.6 - 159.1</th>\n",
       "      <td>14</td>\n",
       "      <td>0.14</td>\n",
       "      <td>14.0</td>\n",
       "      <td>29</td>\n",
       "      <td>0.29</td>\n",
       "      <td>29.0</td>\n",
       "    </tr>\n",
       "    <tr>\n",
       "      <th>159.1 - 163.6</th>\n",
       "      <td>14</td>\n",
       "      <td>0.14</td>\n",
       "      <td>14.0</td>\n",
       "      <td>43</td>\n",
       "      <td>0.43</td>\n",
       "      <td>43.0</td>\n",
       "    </tr>\n",
       "    <tr>\n",
       "      <th>163.6 - 168.1</th>\n",
       "      <td>14</td>\n",
       "      <td>0.14</td>\n",
       "      <td>14.0</td>\n",
       "      <td>57</td>\n",
       "      <td>0.57</td>\n",
       "      <td>57.0</td>\n",
       "    </tr>\n",
       "    <tr>\n",
       "      <th>168.1 - 172.6</th>\n",
       "      <td>14</td>\n",
       "      <td>0.14</td>\n",
       "      <td>14.0</td>\n",
       "      <td>71</td>\n",
       "      <td>0.71</td>\n",
       "      <td>71.0</td>\n",
       "    </tr>\n",
       "    <tr>\n",
       "      <th>172.6 - 177.1</th>\n",
       "      <td>14</td>\n",
       "      <td>0.14</td>\n",
       "      <td>14.0</td>\n",
       "      <td>85</td>\n",
       "      <td>0.85</td>\n",
       "      <td>85.0</td>\n",
       "    </tr>\n",
       "    <tr>\n",
       "      <th>177.1 - 181.6</th>\n",
       "      <td>15</td>\n",
       "      <td>0.15</td>\n",
       "      <td>15.0</td>\n",
       "      <td>100</td>\n",
       "      <td>1.00</td>\n",
       "      <td>100.0</td>\n",
       "    </tr>\n",
       "  </tbody>\n",
       "</table>\n",
       "</div>"
      ],
      "text/plain": [
       "               f_i  Fr_i  Frp_i  Fa_i  Fra_i  Frap_i\n",
       "150.1 - 154.6   15  0.15   15.0    15   0.15    15.0\n",
       "154.6 - 159.1   14  0.14   14.0    29   0.29    29.0\n",
       "159.1 - 163.6   14  0.14   14.0    43   0.43    43.0\n",
       "163.6 - 168.1   14  0.14   14.0    57   0.57    57.0\n",
       "168.1 - 172.6   14  0.14   14.0    71   0.71    71.0\n",
       "172.6 - 177.1   14  0.14   14.0    85   0.85    85.0\n",
       "177.1 - 181.6   15  0.15   15.0   100   1.00   100.0"
      ]
     },
     "execution_count": 113,
     "metadata": {},
     "output_type": "execute_result"
    }
   ],
   "source": [
    "np.random.seed(100)\n",
    "x= np.concatenate((np.random.normal(175,4,50),np.random.normal(160,4,50)))\n",
    "x = np.sort(x)\n",
    "N = len(x)\n",
    "Nc = np.floor(1 + 3.33*np.log10(N))\n",
    "A = np.round(np.max(x) - np.min(x),1)\n",
    "Ac = np.round(A/Nc,1)\n",
    "freq = []\n",
    "valor = np.min(x)\n",
    "while valor < np.max(x):\n",
    "    freq.append('{} - {}'.format(round(valor,1),round(valor+Ac,1)))\n",
    "    valor += Ac\n",
    "freq_abs = pd.qcut(x,len(freq),labels=freq) \n",
    "f_i = pd.value_counts(freq_abs,sort=False)\n",
    "Fr_i=f_i/np.sum(f_i)#frequencia relativa\n",
    "Frp_i=100*Fr_i#frequencia relativa percentual\n",
    "Fa_i=np.cumsum(f_i) #frequencia acumulada\n",
    "Fra_i=np.cumsum(Fr_i)##frequencia relativa acumulada\n",
    "Frap_i=100*Fra_i#frequencia relativa acumulada\n",
    "d = {'f_i':f_i,\n",
    "    'Fr_i':Fr_i,\n",
    "    'Frp_i':Frp_i,\n",
    "    'Fa_i':Fa_i,\n",
    "    'Fra_i':Fra_i,\n",
    "    'Frap_i':Frap_i}\n",
    "table = pd.DataFrame(data=d,columns=['f_i','Fr_i','Frp_i','Fa_i','Fra_i','Frap_i'])\n",
    "table"
   ]
  },
  {
   "cell_type": "code",
   "execution_count": 128,
   "metadata": {
    "ExecuteTime": {
     "end_time": "2021-02-05T11:07:59.922395Z",
     "start_time": "2021-02-05T11:07:59.770881Z"
    }
   },
   "outputs": [
    {
     "data": {
      "image/png": "[encoded data removed]",
      "text/plain": [
       "<Figure size 432x288 with 1 Axes>"
      ]
     },
     "metadata": {
      "needs_background": "light"
     },
     "output_type": "display_data"
    }
   ],
   "source": [
    "plt.hist(x)\n",
    "plt.show()"
   ]
  },
  {
   "cell_type": "markdown",
   "metadata": {},
   "source": [
    "Observação: parece haver duas distribuições que foram agrupadas! Diferenças entre alturas de homens e mulheres ? "
   ]
  },
  {
   "cell_type": "markdown",
   "metadata": {},
   "source": [
    "# Histograma\n",
    "\n",
    "## Exemplo \n",
    "Histograma de $f_i$ considerando os dados anteriores."
   ]
  },
  {
   "cell_type": "code",
   "execution_count": 129,
   "metadata": {
    "ExecuteTime": {
     "end_time": "2021-02-05T11:08:07.086973Z",
     "start_time": "2021-02-05T11:08:06.925831Z"
    }
   },
   "outputs": [
    {
     "data": {
      "image/png": "[encoded data removed]",
      "text/plain": [
       "<Figure size 432x288 with 1 Axes>"
      ]
     },
     "metadata": {
      "needs_background": "light"
     },
     "output_type": "display_data"
    }
   ],
   "source": [
    "plt.hist(x)\n",
    "plt.title('Histograma de alturas de homens e mulheres')\n",
    "plt.xlabel('Alturas em cm')\n",
    "plt.ylabel('Quantidade')\n",
    "plt.show()"
   ]
  },
  {
   "cell_type": "markdown",
   "metadata": {
    "ExecuteTime": {
     "end_time": "2021-02-05T11:01:30.347137Z",
     "start_time": "2021-02-05T11:01:30.339137Z"
    }
   },
   "source": [
    "## Exemplo\n",
    "\n",
    "Histograma de $Fr_i$ considerando os dados anteriores."
   ]
  },
  {
   "cell_type": "code",
   "execution_count": 130,
   "metadata": {
    "ExecuteTime": {
     "end_time": "2021-02-05T11:09:13.552653Z",
     "start_time": "2021-02-05T11:09:13.398070Z"
    }
   },
   "outputs": [
    {
     "data": {
      "image/png": "[encoded data removed]",
      "text/plain": [
       "<Figure size 432x288 with 1 Axes>"
      ]
     },
     "metadata": {
      "needs_background": "light"
     },
     "output_type": "display_data"
    }
   ],
   "source": [
    "plt.hist(x, density=True)\n",
    "plt.title('Histograma de alturas de homens e mulheres')\n",
    "plt.xlabel('Alturas em cm')\n",
    "plt.ylabel('Probabilidade')\n",
    "plt.show()"
   ]
  },
  {
   "cell_type": "markdown",
   "metadata": {},
   "source": [
    "Nota: Compare os últimos histogramas! "
   ]
  }
 ],
 "metadata": {
  "kernelspec": {
   "display_name": "Python 3",
   "language": "python",
   "name": "python3"
  },
  "language_info": {
   "codemirror_mode": {
    "name": "ipython",
    "version": 3
   },
   "file_extension": ".py",
   "mimetype": "text/x-python",
   "name": "python",
   "nbconvert_exporter": "python",
   "pygments_lexer": "ipython3",
   "version": "3.8.5"
  },
  "nbTranslate": {
   "displayLangs": [
    "*"
   ],
   "hotkey": "alt-t",
   "langInMainMenu": true,
   "sourceLang": "en",
   "targetLang": "fr",
   "useGoogleTranslate": true
  },
  "toc": {
   "base_numbering": 1,
   "nav_menu": {},
   "number_sections": true,
   "sideBar": true,
   "skip_h1_title": false,
   "title_cell": "Table of Contents",
   "title_sidebar": "Contents",
   "toc_cell": false,
   "toc_position": {
    "height": "calc(100% - 180px)",
    "left": "10px",
    "top": "150px",
    "width": "242.367px"
   },
   "toc_section_display": true,
   "toc_window_display": true
  }
 },
 "nbformat": 4,
 "nbformat_minor": 4
}
