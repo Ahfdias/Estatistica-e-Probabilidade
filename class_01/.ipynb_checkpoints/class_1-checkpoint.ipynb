{
 "cells": [
  {
   "cell_type": "markdown",
   "metadata": {},
   "source": [
    "# Estatística e Probabilidade\n",
    "**Material Produzido por João Paulo, Alessando, Cardoso e Mauricio Eloy**\n",
    "\n",
    "\n",
    "\n",
    "**Descrição**\n",
    "\n",
    "  60 tempos\n",
    "  \n",
    "- Ementa da Disciplina\n",
    "\n",
    "  Disponível sistema DE\n",
    "  \n",
    "* Provas\n",
    "  * Provas Parciais: 03 ($45\\%$)\n",
    "  * Prova Final: 01  $(55\\%)$\n",
    "* Nota Final\n",
    "Provas Parciais + Prova Final\n",
    "\n",
    "\n",
    "- Todas as provas são discursivas\n",
    "- As provas P1, P2 e P3 serão discursivas com possibilidade de uso do tablet com apoio de um software. \n",
    "- A prova final é totalmente discursiva: permitido uso de calculadora científica\n",
    "- Exame Conteúdo Total \n",
    "- $2^a Época$: Conteúdo Total\n",
    "\n",
    "-Livros \n",
    "  - Mario F. Triola, Elementary Statistics Technology Update (11th Edition) 11th Edition, Pearson,  2011. \n"
   ]
  },
  {
   "cell_type": "markdown",
   "metadata": {},
   "source": []
  }
 ],
 "metadata": {
  "kernelspec": {
   "display_name": "Python 3",
   "language": "python",
   "name": "python3"
  },
  "language_info": {
   "codemirror_mode": {
    "name": "ipython",
    "version": 3
   },
   "file_extension": ".py",
   "mimetype": "text/x-python",
   "name": "python",
   "nbconvert_exporter": "python",
   "pygments_lexer": "ipython3",
   "version": "3.8.5"
  },
  "nbTranslate": {
   "displayLangs": [
    "*"
   ],
   "hotkey": "alt-t",
   "langInMainMenu": true,
   "sourceLang": "en",
   "targetLang": "fr",
   "useGoogleTranslate": true
  },
  "toc": {
   "base_numbering": 1,
   "nav_menu": {},
   "number_sections": true,
   "sideBar": true,
   "skip_h1_title": false,
   "title_cell": "Table of Contents",
   "title_sidebar": "Contents",
   "toc_cell": false,
   "toc_position": {},
   "toc_section_display": true,
   "toc_window_display": false
  }
 },
 "nbformat": 4,
 "nbformat_minor": 4
}
